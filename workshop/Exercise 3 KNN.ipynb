{
 "cells": [
  {
   "cell_type": "markdown",
   "metadata": {},
   "source": [
    "# Other Classification Exercise - KNN"
   ]
  },
  {
   "cell_type": "raw",
   "metadata": {},
   "source": [
    "Peform the same exercise as Logistic Regression using KNN Classifier"
   ]
  },
  {
   "cell_type": "code",
   "execution_count": 2,
   "metadata": {},
   "outputs": [],
   "source": [
    "import numpy as np\n",
    "import pandas as pd\n",
    "import matplotlib.pyplot as plt"
   ]
  },
  {
   "cell_type": "code",
   "execution_count": 3,
   "metadata": {},
   "outputs": [],
   "source": [
    "df = pd.read_csv('iris-data-clean.csv')"
   ]
  },
  {
   "cell_type": "code",
   "execution_count": 4,
   "metadata": {},
   "outputs": [],
   "source": [
    "df_copy = df.copy()"
   ]
  },
  {
   "cell_type": "code",
   "execution_count": 5,
   "metadata": {},
   "outputs": [],
   "source": [
    "x = df_copy.drop('class', axis=1)\n",
    "y = df_copy['class']\n",
    "from sklearn.model_selection import train_test_split\n",
    "x_train, x_test, y_train, y_test = train_test_split(x,y,random_state=42)\n"
   ]
  },
  {
   "cell_type": "code",
   "execution_count": 6,
   "metadata": {},
   "outputs": [],
   "source": [
    "from sklearn.neighbors import KNeighborsClassifier\n",
    "from sklearn.metrics import accuracy_score\n",
    "test_error_rates = []\n",
    "for k in range(1,30):\n",
    "    knn_model = KNeighborsClassifier(n_neighbors=k)\n",
    "    knn_model.fit(x_train, y_train)\n",
    "    y_pred = knn_model.predict(x_test)\n",
    "    test_error = 1 - accuracy_score(y_test, y_pred)\n",
    "    test_error_rates.append(test_error)"
   ]
  },
  {
   "cell_type": "code",
   "execution_count": 9,
   "metadata": {},
   "outputs": [
    {
     "data": {
      "text/plain": [
       "[<matplotlib.lines.Line2D at 0x2aa8c4df790>]"
      ]
     },
     "execution_count": 9,
     "metadata": {},
     "output_type": "execute_result"
    },
    {
     "data": {
      "image/png": "[encoded data removed]",
      "text/plain": [
       "<Figure size 432x288 with 1 Axes>"
      ]
     },
     "metadata": {
      "needs_background": "light"
     },
     "output_type": "display_data"
    }
   ],
   "source": [
    "plt.plot(test_error_rates)"
   ]
  },
  {
   "cell_type": "code",
   "execution_count": 14,
   "metadata": {},
   "outputs": [],
   "source": [
    "bestK = 0\n",
    "tempMin = 100.0\n",
    "count = 0\n",
    "for i in test_error_rates:\n",
    "    if i < tempMin:\n",
    "        bestK = count\n",
    "        tempMin = i\n",
    "        count += 1"
   ]
  },
  {
   "cell_type": "code",
   "execution_count": 15,
   "metadata": {},
   "outputs": [
    {
     "data": {
      "text/plain": [
       "2"
      ]
     },
     "execution_count": 15,
     "metadata": {},
     "output_type": "execute_result"
    }
   ],
   "source": [
    "count"
   ]
  },
  {
   "cell_type": "code",
   "execution_count": 13,
   "metadata": {},
   "outputs": [
    {
     "data": {
      "text/plain": [
       "[0.08108108108108103,\n",
       " 0.10810810810810811,\n",
       " 0.05405405405405406,\n",
       " 0.08108108108108103,\n",
       " 0.05405405405405406,\n",
       " 0.10810810810810811,\n",
       " 0.05405405405405406,\n",
       " 0.08108108108108103,\n",
       " 0.05405405405405406,\n",
       " 0.08108108108108103,\n",
       " 0.05405405405405406,\n",
       " 0.10810810810810811,\n",
       " 0.05405405405405406,\n",
       " 0.08108108108108103,\n",
       " 0.05405405405405406,\n",
       " 0.08108108108108103,\n",
       " 0.08108108108108103,\n",
       " 0.10810810810810811,\n",
       " 0.08108108108108103,\n",
       " 0.10810810810810811,\n",
       " 0.10810810810810811,\n",
       " 0.10810810810810811,\n",
       " 0.10810810810810811,\n",
       " 0.10810810810810811,\n",
       " 0.08108108108108103,\n",
       " 0.10810810810810811,\n",
       " 0.08108108108108103,\n",
       " 0.1351351351351351,\n",
       " 0.10810810810810811]"
      ]
     },
     "execution_count": 13,
     "metadata": {},
     "output_type": "execute_result"
    }
   ],
   "source": []
  },
  {
   "cell_type": "code",
   "execution_count": null,
   "metadata": {},
   "outputs": [],
   "source": []
  }
 ],
 "metadata": {
  "kernelspec": {
   "display_name": "Python 3 (ipykernel)",
   "language": "python",
   "name": "python3"
  },
  "language_info": {
   "codemirror_mode": {
    "name": "ipython",
    "version": 3
   },
   "file_extension": ".py",
   "mimetype": "text/x-python",
   "name": "python",
   "nbconvert_exporter": "python",
   "pygments_lexer": "ipython3",
   "version": "3.9.7"
  }
 },
 "nbformat": 4,
 "nbformat_minor": 2
}
