{
 "cells": [
  {
   "cell_type": "markdown",
   "metadata": {},
   "source": [
    "## Decision Tree with different hyperparameters"
   ]
  },
  {
   "cell_type": "markdown",
   "metadata": {},
   "source": [
    "In this example, we build different decision trees with different hyperparameters.  Hyperparameters are parameter values used to configure the model."
   ]
  },
  {
   "cell_type": "code",
   "execution_count": null,
   "metadata": {},
   "outputs": [],
   "source": [
    "import numpy as np\n",
    "import pandas as pd\n",
    "import matplotlib.pyplot as plt\n",
    "import sklearn\n",
    "from sklearn.model_selection import train_test_split\n",
    "from sklearn.tree import DecisionTreeClassifier\n",
    "from sklearn.metrics import accuracy_score, confusion_matrix"
   ]
  },
  {
   "cell_type": "markdown",
   "metadata": {},
   "source": [
    "### Load dataset\n",
    "Let's use some large financial data from UCI \n"
   ]
  },
  {
   "cell_type": "code",
   "execution_count": null,
   "metadata": {},
   "outputs": [],
   "source": [
    "df_lg = pd.read_csv('Wholesale.csv')\n",
    "df_lg.head()"
   ]
  },
  {
   "cell_type": "code",
   "execution_count": null,
   "metadata": {},
   "outputs": [],
   "source": [
    "X2_train, X2_test, y2_train, y2_test = train_test_split(df_lg.iloc[:,2:], df_lg['Channel'], random_state =42)"
   ]
  },
  {
   "cell_type": "code",
   "execution_count": null,
   "metadata": {},
   "outputs": [],
   "source": [
    "X2_train.head()"
   ]
  },
  {
   "cell_type": "markdown",
   "metadata": {},
   "source": [
    "### Build a function to build a decision tree\n",
    "This function accepts different hyperparamters and print the accuracy scores"
   ]
  },
  {
   "cell_type": "code",
   "execution_count": null,
   "metadata": {},
   "outputs": [],
   "source": [
    "def decTreeScore2(crit = 'gini',  maxDepth = None, minSamples = 1, minSplit = 2):\n",
    "    dect = DecisionTreeClassifier(criterion = crit, max_depth = maxDepth, min_samples_leaf = minSamples, \n",
    "                                 min_samples_split = minSplit, random_state= 42)\n",
    "    dect.fit(X2_train, y2_train)\n",
    "    accuracy = accuracy_score(y2_test, dect.predict(X2_test))\n",
    "    print(accuracy)\n",
    "    return accuracy"
   ]
  },
  {
   "cell_type": "code",
   "execution_count": null,
   "metadata": {},
   "outputs": [],
   "source": [
    "decTreeScore2()\n",
    "# the accuracy score for our model with default hyperparams is about 0.88"
   ]
  },
  {
   "cell_type": "code",
   "execution_count": null,
   "metadata": {},
   "outputs": [],
   "source": [
    "decTreeScore2(crit = 'entropy')\n",
    "# if we use entropy to calculate infomation gain instead of gini score, the accuracy drops"
   ]
  },
  {
   "cell_type": "code",
   "execution_count": null,
   "metadata": {},
   "outputs": [],
   "source": [
    "# use different maximum depth of the tree\n",
    "for i in np.arange(1, 15, 1):\n",
    "    decTreeScore2(maxDepth = i)\n",
    "    \n",
    "    \n",
    "# from the result we see that when maximum depth allowed is 2 or 5, the accuracy score is highest"
   ]
  },
  {
   "cell_type": "code",
   "execution_count": null,
   "metadata": {},
   "outputs": [],
   "source": [
    "for i in np.arange(1, 15, 1):\n",
    "    decTreeScore2(minSamples = i)\n",
    "    \n",
    "# when the minimum samples allowed in a leaf is  greater than 8, the accuracy score is the highest"
   ]
  },
  {
   "cell_type": "code",
   "execution_count": null,
   "metadata": {},
   "outputs": [],
   "source": [
    "for i in np.arange(2, 15,1):\n",
    "    decTreeScore2(minSplit = i)\n",
    "    \n",
    "# the value of minimum samples required to split doesn't really affect accuracy much"
   ]
  }
 ],
 "metadata": {
  "kernelspec": {
   "display_name": "Python 3 (ipykernel)",
   "language": "python",
   "name": "python3"
  },
  "language_info": {
   "codemirror_mode": {
    "name": "ipython",
    "version": 3
   },
   "file_extension": ".py",
   "mimetype": "text/x-python",
   "name": "python",
   "nbconvert_exporter": "python",
   "pygments_lexer": "ipython3",
   "version": "3.9.7"
  }
 },
 "nbformat": 4,
 "nbformat_minor": 2
}
