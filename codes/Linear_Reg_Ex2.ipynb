{
 "cells": [
  {
   "cell_type": "markdown",
   "metadata": {},
   "source": [
    "# Example 2 with large data set\n",
    "\n",
    "In this example, we will use real data imported from csv file instead of made-up ones"
   ]
  },
  {
   "cell_type": "code",
   "execution_count": null,
   "metadata": {},
   "outputs": [],
   "source": [
    "# import everything we need\n",
    "import numpy as np\n",
    "import pandas as pd\n",
    "import matplotlib.pyplot as plt\n",
    "import sklearn\n",
    "import seaborn as sns"
   ]
  },
  {
   "cell_type": "code",
   "execution_count": null,
   "metadata": {},
   "outputs": [],
   "source": [
    "# We are going to use the built-in data sets from sklearn\n",
    "# This dataset contains boston housing infomation\n",
    "\n",
    "# import datasets from sklearn first\n",
    "from sklearn import datasets\n",
    "boston = datasets.load_boston() # get built-in dataset, data has all the features, target is what we want to predict\n",
    "print(boston)"
   ]
  },
  {
   "cell_type": "code",
   "execution_count": null,
   "metadata": {
    "scrolled": true
   },
   "outputs": [],
   "source": [
    "# Construct a dataframe for our data and target for a better illustration\n",
    "# set the columns names according to the result above\n",
    "df = pd.DataFrame(boston.data, \n",
    "                  columns = ['CRIM', 'ZN', 'INDUS', 'CHAS', 'NOX', 'RM', 'AGE', 'DIS', 'RAD', 'TAX', 'PTRATIO', 'B', 'LSTAT'])\n",
    "df['MEDV'] = boston.target # add 'target' as the last column in the dataframe\n",
    "df.head() # show the first 5 rows"
   ]
  },
  {
   "cell_type": "markdown",
   "metadata": {},
   "source": [
    "# Data Visualization"
   ]
  },
  {
   "cell_type": "code",
   "execution_count": null,
   "metadata": {},
   "outputs": [],
   "source": [
    "# We can see that feature 'RM', average number of rooms per dwelling,\n",
    "# has a linear relationship with our target 'MEDV', Median value of owner-occupied homes in $1000's\n",
    "\n",
    "fig, ax = plt.subplots(figsize=(10,10)) \n",
    "ax.scatter(df['RM'], df['MEDV']) # plot the data\n",
    "ax.grid()\n",
    "plt.show()"
   ]
  },
  {
   "cell_type": "markdown",
   "metadata": {},
   "source": [
    "## Model Training"
   ]
  },
  {
   "cell_type": "code",
   "execution_count": null,
   "metadata": {},
   "outputs": [],
   "source": [
    "from sklearn import linear_model\n",
    "from sklearn.model_selection import train_test_split"
   ]
  },
  {
   "cell_type": "code",
   "execution_count": null,
   "metadata": {},
   "outputs": [],
   "source": [
    "# notice that we need double square brackets to select X\n",
    "# inner bracket is a list\n",
    "# outer bracker accesses a subset of the original DataFrame\n",
    "X_train = df[['RM']]\n",
    "y_train = df['MEDV']\n",
    "\n",
    "X_train.head()"
   ]
  },
  {
   "cell_type": "code",
   "execution_count": null,
   "metadata": {},
   "outputs": [],
   "source": [
    "# We need 2D arrays for x_train \n",
    "print(X_train.shape)\n",
    "print(y_train.shape)"
   ]
  },
  {
   "cell_type": "code",
   "execution_count": null,
   "metadata": {},
   "outputs": [],
   "source": [
    "# instantiate a linear regression model\n",
    "lModel = linear_model.LinearRegression()\n",
    "\n",
    "# train the model to fit the training data, finding the coef and intercept\n",
    "model = lModel.fit(X_train, y_train)"
   ]
  },
  {
   "cell_type": "markdown",
   "metadata": {},
   "source": [
    "# Prediction\n",
    "\n",
    "Now that we've trained our model, the next step is to predict the data.\n",
    "\n",
    "Steps:\n",
    "\n",
    "    Get predictions, 𝑦̂, using LinearRegression.predict()\n"
   ]
  },
  {
   "cell_type": "code",
   "execution_count": null,
   "metadata": {},
   "outputs": [],
   "source": [
    "# We can do prediction based on single value\n",
    "print(lModel.predict([[4.67]]))"
   ]
  },
  {
   "cell_type": "code",
   "execution_count": null,
   "metadata": {},
   "outputs": [],
   "source": [
    "y_pred = lModel.predict(X_train)"
   ]
  },
  {
   "cell_type": "markdown",
   "metadata": {},
   "source": [
    "# Model Validation\n",
    "\n",
    "We want to see how well our model fits the data. r2-score should be as close to 1 as possible"
   ]
  },
  {
   "cell_type": "code",
   "execution_count": null,
   "metadata": {},
   "outputs": [],
   "source": [
    "# we can see the coefficient and intercept our model finds\n",
    "print(lModel.coef_) # the 'slope'\n",
    "print(lModel.intercept_) # the intercept\n",
    "print(lModel.score(X_train, y_train))"
   ]
  },
  {
   "cell_type": "markdown",
   "metadata": {},
   "source": [
    "As the r2-score isn't very close to 1, our linear regression model doesn't really fit the data well\n",
    "We can visualize it to see what the model looks like"
   ]
  },
  {
   "cell_type": "code",
   "execution_count": null,
   "metadata": {},
   "outputs": [],
   "source": [
    "plt.scatter(X_train, y_train)\n",
    "plt.plot(X_train, y_pred, color='red')\n",
    "plt.show()"
   ]
  },
  {
   "cell_type": "code",
   "execution_count": null,
   "metadata": {},
   "outputs": [],
   "source": [
    "# We want to plot the regression line(blue) vs the actual value(red)\n",
    "fig, ax = plt.subplots(figsize = (10,10))\n",
    "\n",
    "ax.plot(X_train, y_pred, c = 'red', label='Test data')\n",
    "ax.scatter(X_train, y_train, c = 'blue', label='Test points')\n",
    "ax.set(xlabel='average rooms per dwelling', ylabel='median of owner home / $1000')\n",
    "ax.grid()\n",
    "plt.show()\n",
    "\n"
   ]
  },
  {
   "cell_type": "markdown",
   "metadata": {},
   "source": [
    "We can see that there are many scattered data points than affect how our model would be like"
   ]
  },
  {
   "cell_type": "code",
   "execution_count": null,
   "metadata": {},
   "outputs": [],
   "source": []
  }
 ],
 "metadata": {
  "kernelspec": {
   "display_name": "Python 3",
   "language": "python",
   "name": "python3"
  },
  "language_info": {
   "codemirror_mode": {
    "name": "ipython",
    "version": 3
   },
   "file_extension": ".py",
   "mimetype": "text/x-python",
   "name": "python",
   "nbconvert_exporter": "python",
   "pygments_lexer": "ipython3",
   "version": "3.9.4"
  }
 },
 "nbformat": 4,
 "nbformat_minor": 2
}
