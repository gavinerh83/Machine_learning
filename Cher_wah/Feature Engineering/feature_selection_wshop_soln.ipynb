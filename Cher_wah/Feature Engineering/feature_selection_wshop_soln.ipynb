{
 "cells": [
  {
   "cell_type": "markdown",
   "metadata": {},
   "source": [
    "## Feature Selection"
   ]
  },
  {
   "cell_type": "markdown",
   "metadata": {},
   "source": [
    "### Import all necessary modules into our project."
   ]
  },
  {
   "cell_type": "code",
   "execution_count": null,
   "metadata": {},
   "outputs": [],
   "source": [
    "import pandas as pd\n",
    "import seaborn as sns\n",
    "import matplotlib.pyplot as plt\n",
    "import seaborn as sb"
   ]
  },
  {
   "cell_type": "markdown",
   "metadata": {},
   "source": [
    "### Read the Wine dataset and view the data."
   ]
  },
  {
   "cell_type": "code",
   "execution_count": null,
   "metadata": {},
   "outputs": [],
   "source": [
    "df = pd.read_csv('wine.csv')\n",
    "\n",
    "df"
   ]
  },
  {
   "cell_type": "markdown",
   "metadata": {},
   "source": [
    "### Extract and display all features except \"Cultivar\"."
   ]
  },
  {
   "cell_type": "code",
   "execution_count": null,
   "metadata": {},
   "outputs": [],
   "source": [
    "df_features = df.iloc[:,1:]\n",
    "\n",
    "df_features"
   ]
  },
  {
   "cell_type": "markdown",
   "metadata": {},
   "source": [
    "### Extract and display the label/target \"Cultivar\"."
   ]
  },
  {
   "cell_type": "code",
   "execution_count": null,
   "metadata": {},
   "outputs": [],
   "source": [
    "df_target = df.loc[:,['Cultivar']]\n",
    "\n",
    "df_target"
   ]
  },
  {
   "cell_type": "markdown",
   "metadata": {},
   "source": [
    "### Use Seaborn's pairplot() function to show correlation between features, except \"Cultivar\"."
   ]
  },
  {
   "cell_type": "code",
   "execution_count": null,
   "metadata": {},
   "outputs": [],
   "source": [
    "sb.pairplot(df_features)"
   ]
  },
  {
   "cell_type": "markdown",
   "metadata": {},
   "source": [
    "### Display the Pearson Correlation Matrix for the entire dataset."
   ]
  },
  {
   "cell_type": "code",
   "execution_count": null,
   "metadata": {},
   "outputs": [],
   "source": [
    "corr_mat = df.corr()\n",
    "\n",
    "corr_mat"
   ]
  },
  {
   "cell_type": "markdown",
   "metadata": {},
   "source": [
    "Select the best features in the Wine dataset.\n",
    "\n",
    "1. Look for candidate-features that have a pearson correlation coefficient less than -0.5 and more than 0.5 with respect to \"Cultivar\" (our target).\n",
    "\n",
    "2. For each candidate-feature, extract peers that have a coefficient more than 0.6 with itself. Then, among that candidate-feature and its highly-correlated peers, select the one that has the highest coefficient value with resepect to \"Cultivar\". Discard the rest of the unselected features and do not consider them in future iterations.\n",
    "\n",
    "3. Iterate until all candidate-features (that have not been discarded in earlier iterations) have been processed.\n",
    "\n",
    "4. The selected ones in each iteration are the \"best features\"."
   ]
  },
  {
   "cell_type": "markdown",
   "metadata": {},
   "source": [
    "### Perform Step 1 below."
   ]
  },
  {
   "cell_type": "code",
   "execution_count": null,
   "metadata": {},
   "outputs": [],
   "source": [
    "series = corr_mat['Cultivar'].drop('Cultivar')\n",
    "candidates_series = series[(series < -0.5) | (series > 0.5)]\n",
    "\n",
    "candidates = candidates_series.index\n",
    "candidates\n"
   ]
  },
  {
   "cell_type": "markdown",
   "metadata": {},
   "source": [
    "### Perform Steps 2 and 3 below."
   ]
  },
  {
   "cell_type": "code",
   "execution_count": null,
   "metadata": {},
   "outputs": [],
   "source": [
    "skip = []\n",
    "selected = []\n",
    "\n",
    "for x in candidates:  \n",
    "    if x not in skip and x not in selected:  \n",
    "        series_wrt_x = corr_mat[x].drop(['Cultivar'])   # examine the coefficients w.r.t to feature x\n",
    "        peers = series_wrt_x[candidates]\n",
    "        peers = peers[(peers > 0.6)]    # look for highly-correlated peers within the candidates\n",
    "        if len(peers) == 1:\n",
    "            selected.append(x)  # accept feature x, no other highly-correlated peers\n",
    "        else:\n",
    "            series_wrt_target = corr_mat['Cultivar'][peers.index]\n",
    "            most_corr = series_wrt_target.abs().idxmax()  # select most highly-correlated feature w.r.t target\n",
    "            selected.append(most_corr)  \n",
    "\n",
    "            series_wrt_target.drop(most_corr, inplace=True)\n",
    "            for i in series_wrt_target.index:\n",
    "                skip.append(i)  # place non-selected peers into the \"skip\" basket\n",
    "          \n",
    "selected"
   ]
  }
 ],
 "metadata": {
  "interpreter": {
   "hash": "1d06f15350b31cd81f03731ed9df95b7246c9107dbc130fa4bad11e6a7891c2c"
  },
  "kernelspec": {
   "display_name": "Python 3 (ipykernel)",
   "language": "python",
   "name": "python3"
  },
  "language_info": {
   "codemirror_mode": {
    "name": "ipython",
    "version": 3
   },
   "file_extension": ".py",
   "mimetype": "text/x-python",
   "name": "python",
   "nbconvert_exporter": "python",
   "pygments_lexer": "ipython3",
   "version": "3.9.7"
  }
 },
 "nbformat": 4,
 "nbformat_minor": 2
}
