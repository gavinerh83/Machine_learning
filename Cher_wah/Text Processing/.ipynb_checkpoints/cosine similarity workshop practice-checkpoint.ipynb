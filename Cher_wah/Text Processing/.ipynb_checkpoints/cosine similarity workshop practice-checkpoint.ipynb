{
 "cells": [
  {
   "cell_type": "code",
   "execution_count": 3,
   "id": "0d07b79d",
   "metadata": {},
   "outputs": [],
   "source": [
    "import string\n",
    "import nltk\n",
    "from nltk.corpus import stopwords\n",
    "from nltk.stem import WordNetLemmatizer\n",
    "from sklearn.feature_extraction.text import CountVectorizer, TfidfVectorizer\n",
    "from sklearn.metrics.pairwise import cosine_similarity"
   ]
  },
  {
   "cell_type": "code",
   "execution_count": 4,
   "id": "8f79653f",
   "metadata": {},
   "outputs": [],
   "source": [
    "corpus = [\n",
    "\t\"At 20 years of age the will reigns; at 30, the wit; and at 40, the judgement.\",\n",
    "\t\"Challenges are what make life interesting and overcoming them is what makes life meaningful.\",\n",
    "\t\"Let your life be shaped by decisions you made, not by the ones you didn't.\",\n",
    "\t\"The privilege of a lifetime is being who you are.\",\n",
    "\t\"To see the world, things dangerous to come to. To see behind walls, to draw closer. To find each other and to feel. That, is the purpose of life.\",\n",
    "\t\"We should count time by heart throbs. He most lives who thinks most, feels the noblest, acts the best.\",\n",
    "\t\"Continuous effort - not strength or intelligence, is the key to unlocking our potential.\",\n",
    "\t\"Knowledge is knowing what to say. Wisdom is knowing when to say it.\",\n",
    "\t\"Critique to sharpen; not to put down.\",\n",
    "\t\"Cowards die many times before their deaths; the braves only but once.\",\n",
    "\t\"Strength doesn't come from what you can do. It comes from overcoming the things you once thought you couldn't.\",\n",
    "\t\"Our greatest fear should not be of failure, but of succeeding at things in life that don't really matter.\",\n",
    "\t\"Creativity comes from constraint.\",\n",
    "\t\"To love someone means you have a desire to change together with that person.\",\n",
    "\t\"Aspire for the heights but prepare for the depths.\",\n",
    "\t\"What hurts more, the pain of hard work or the pain of regret?\",\n",
    "\t\"Those who have achieved all their aims probably set them too low.\",\n",
    "\t\"What we fight with is so small, and when we win, it makes us small. What we want is to be defeated, decisively, by successively greater things.\",\n",
    "\t\"Life is the sum of our choices.\",\n",
    "\t\"To talk well and eloquently is a very great art, but it is an equally great one to know the right time to stop.\",\n",
    "\t\"You can live your whole life and never know who you are; until you see the world through the eyes of others.\",\n",
    "\t\"CHANGE begins, when you start trying.\",\n",
    "\t\"Design influences meaning.\",\n",
    "\t\"Nobody made a greater mistake than he who did nothing because he could only do a little.\",\n",
    "\t\"Many succeed momentarily by what they know; some succeed temporarily by what they do; few succeed permanently by what they are.\",\n",
    "\t\"When you find peace within yourself, you become the kind of person who can live at peace with others.\",\n",
    "\t\"Determine never to be idle. No person will have occasion to complain of the want of time, who never loses any. It is wonderful how much may be done, if we are always doing.\",\n",
    "\t\"When I am working on a problem, I never think about beauty. I think only of how to solve the problem. But when I have finished, if the solution is not beautiful, I know it is wrong.\",\n",
    "\t\"If it is important to you, you will find a way. If not, you will find an excuse.\",\n",
    "\t\"In science, we reserve our highest honors for those who prove us wrong.\",\n",
    "\t\"Logic will get you from A to B. Imagination will take you anywhere.\",\n",
    "\t\"Out of our vulnerabilities come our strengths.\",\n",
    "\t\"The eyes of others our prisons, their thoughts our cages.\",\n",
    "\t\"People are attracted to you by what they see in you; they remain attracted to you by what you see in yourself.\",\n",
    "\t\"Don't be afraid your life will end; be afraid that it will never begin.\",\n",
    "\t\"Climb the mountain not to plant your flag, but to embrace the challenge, enjoy the air and behold the view. Climb it so you can see the world, not so the world can see you.\",\n",
    "\t\"The mark of a successful man is one that has spent an entire day on the bank of a river without feeling guilty about it.\",\n",
    "\t\"In the beginner's mind, there are many possibilities; in the expert's mind, there are few.\",\n",
    "\t\"The idea of education was to learn to think for yourself.\",\n",
    "\t\"It is our choices that show what we really are, far more than our abilities.\",\n",
    "\t\"Before success comes the courage to fail.\",\n",
    "\t\"A man is rich in proportion to the number of things he can afford to let alone.\",\n",
    "\t\"Every time we open our mouths, men look into our minds.\",\n",
    "\t\"A man cannot be comfortable without his own approval.\",\n",
    "\t\"There are two things to aim at in life: first, to get what you want; and, after that, to enjoy it. Only the wisest of mankind achieve the second.\",\n",
    "\t\"We all make decisions, but in the end, our decisions made us.\",\n",
    "\t\"He who establishes his argument by noise and command shows that his reason is weak.\",\n",
    "\t\"You attract into your life that which you are.\",\n",
    "\t\"Greatness lies not in being strong, but in the right use of strength.\",\n",
    "\t\"Diplomacy is the art of telling plain truths without giving offence.\",\n",
    "\t\"The highest reward for a person's work is not what he gets for it, but what he becomes by it.\"\n",
    "]"
   ]
  },
  {
   "cell_type": "code",
   "execution_count": 5,
   "id": "cf877d13",
   "metadata": {},
   "outputs": [
    {
     "name": "stderr",
     "output_type": "stream",
     "text": [
      "[nltk_data] Downloading package stopwords to\n",
      "[nltk_data]     C:\\Users\\ASUS\\AppData\\Roaming\\nltk_data...\n",
      "[nltk_data]   Package stopwords is already up-to-date!\n",
      "[nltk_data] Downloading package wordnet to\n",
      "[nltk_data]     C:\\Users\\ASUS\\AppData\\Roaming\\nltk_data...\n",
      "[nltk_data]   Package wordnet is already up-to-date!\n"
     ]
    },
    {
     "data": {
      "text/plain": [
       "True"
      ]
     },
     "execution_count": 5,
     "metadata": {},
     "output_type": "execute_result"
    }
   ],
   "source": [
    "nltk.download('stopwords')\n",
    "nltk.download('wordnet')"
   ]
  },
  {
   "cell_type": "markdown",
   "id": "d0fc4005",
   "metadata": {},
   "source": [
    "### Prepare stemmer and stop words"
   ]
  },
  {
   "cell_type": "code",
   "execution_count": 7,
   "id": "547c5a41",
   "metadata": {},
   "outputs": [],
   "source": [
    "lemmatizer = WordNetLemmatizer()\n",
    "stop_words = stopwords.words('english')"
   ]
  },
  {
   "cell_type": "markdown",
   "id": "2121015b",
   "metadata": {},
   "source": [
    "### Perform data cleansing"
   ]
  },
  {
   "cell_type": "code",
   "execution_count": 11,
   "id": "41d98af2",
   "metadata": {},
   "outputs": [],
   "source": [
    "def preprocess(docs):\n",
    "    docs_clean = []\n",
    "    punc = str.maketrans(\"\", \"\", string.punctuation)\n",
    "    for doc in docs:\n",
    "        doc_no_punc = doc.translate(punc)\n",
    "        words = doc_no_punc.lower().split()\n",
    "        words = [lemmatizer.lemmatize(word, 'v')\n",
    "                for word in words if word not in stop_words]\n",
    "        docs_clean.append(' '.join(words))\n",
    "    return docs_clean\n",
    "\n",
    "docs_clean = preprocess(corpus)"
   ]
  },
  {
   "cell_type": "markdown",
   "id": "9893bc11",
   "metadata": {},
   "source": [
    "### After preprocessing, generate Tfidf for feature vectors"
   ]
  },
  {
   "cell_type": "code",
   "execution_count": 12,
   "id": "95500ea5",
   "metadata": {},
   "outputs": [],
   "source": [
    "tfidf = TfidfVectorizer()\n",
    "\n",
    "feature_vectors = tfidf.fit_transform(docs_clean).toarray()"
   ]
  },
  {
   "cell_type": "code",
   "execution_count": 26,
   "id": "21196995",
   "metadata": {},
   "outputs": [],
   "source": [
    "row, col = feature_vectors.shape"
   ]
  },
  {
   "cell_type": "markdown",
   "id": "1ea1323c",
   "metadata": {},
   "source": [
    "### Create new query and preprocess"
   ]
  },
  {
   "cell_type": "code",
   "execution_count": 22,
   "id": "e0e340c1",
   "metadata": {},
   "outputs": [],
   "source": [
    "query = ['life wise choice']"
   ]
  },
  {
   "cell_type": "code",
   "execution_count": 23,
   "id": "e4d400ac",
   "metadata": {},
   "outputs": [
    {
     "data": {
      "text/plain": [
       "['life wise choice']"
      ]
     },
     "execution_count": 23,
     "metadata": {},
     "output_type": "execute_result"
    }
   ],
   "source": [
    "query_clean = preprocess(query)"
   ]
  },
  {
   "cell_type": "markdown",
   "id": "0f087899",
   "metadata": {},
   "source": [
    "### Use Tfidf on query"
   ]
  },
  {
   "cell_type": "code",
   "execution_count": 24,
   "id": "1abf78ce",
   "metadata": {},
   "outputs": [],
   "source": [
    "query_feature_vector = tfidf.transform(query_clean).toarray()"
   ]
  },
  {
   "cell_type": "code",
   "execution_count": 43,
   "id": "21db3f9d",
   "metadata": {},
   "outputs": [],
   "source": [
    "similarity = cosine_similarity(query_feature_vector, feature_vectors)"
   ]
  },
  {
   "cell_type": "code",
   "execution_count": 44,
   "id": "1e056879",
   "metadata": {},
   "outputs": [
    {
     "data": {
      "text/plain": [
       "array([[0.        , 0.45772229, 0.26345042, 0.        , 0.17954828,\n",
       "        0.        , 0.        , 0.        , 0.        , 0.        ,\n",
       "        0.        , 0.22958044, 0.        , 0.        , 0.        ,\n",
       "        0.        , 0.        , 0.        , 0.41884443, 0.        ,\n",
       "        0.25204318, 0.        , 0.        , 0.        , 0.        ,\n",
       "        0.        , 0.        , 0.        , 0.        , 0.        ,\n",
       "        0.        , 0.        , 0.        , 0.        , 0.22776048,\n",
       "        0.        , 0.        , 0.        , 0.        , 0.        ,\n",
       "        0.        , 0.        , 0.        , 0.        , 0.19928228,\n",
       "        0.        , 0.        , 0.56652512, 0.        , 0.        ,\n",
       "        0.        ]])"
      ]
     },
     "execution_count": 44,
     "metadata": {},
     "output_type": "execute_result"
    }
   ],
   "source": [
    "similarity"
   ]
  },
  {
   "cell_type": "code",
   "execution_count": 45,
   "id": "c7528c21",
   "metadata": {},
   "outputs": [
    {
     "data": {
      "text/plain": [
       "(1, 51)"
      ]
     },
     "execution_count": 45,
     "metadata": {},
     "output_type": "execute_result"
    }
   ],
   "source": [
    "similarity.shape"
   ]
  },
  {
   "cell_type": "code",
   "execution_count": 35,
   "id": "af1c0e5b",
   "metadata": {},
   "outputs": [],
   "source": [
    "import pandas as pd\n",
    "import numpy as np"
   ]
  },
  {
   "cell_type": "code",
   "execution_count": 46,
   "id": "55c2b091",
   "metadata": {},
   "outputs": [],
   "source": [
    "similarity_T = similarity.T"
   ]
  },
  {
   "cell_type": "code",
   "execution_count": 55,
   "id": "bb63702e",
   "metadata": {},
   "outputs": [],
   "source": [
    "cols = np.arange(1, row + 1)"
   ]
  },
  {
   "cell_type": "code",
   "execution_count": 57,
   "id": "3412e7b5",
   "metadata": {},
   "outputs": [],
   "source": [
    "similarity_df = pd.DataFrame(data=similarity, columns=cols)"
   ]
  },
  {
   "cell_type": "code",
   "execution_count": 58,
   "id": "7cd03315",
   "metadata": {},
   "outputs": [
    {
     "data": {
      "text/html": [
       "<div>\n",
       "<style scoped>\n",
       "    .dataframe tbody tr th:only-of-type {\n",
       "        vertical-align: middle;\n",
       "    }\n",
       "\n",
       "    .dataframe tbody tr th {\n",
       "        vertical-align: top;\n",
       "    }\n",
       "\n",
       "    .dataframe thead th {\n",
       "        text-align: right;\n",
       "    }\n",
       "</style>\n",
       "<table border=\"1\" class=\"dataframe\">\n",
       "  <thead>\n",
       "    <tr style=\"text-align: right;\">\n",
       "      <th></th>\n",
       "      <th>1</th>\n",
       "      <th>2</th>\n",
       "      <th>3</th>\n",
       "      <th>4</th>\n",
       "      <th>5</th>\n",
       "      <th>6</th>\n",
       "      <th>7</th>\n",
       "      <th>8</th>\n",
       "      <th>9</th>\n",
       "      <th>10</th>\n",
       "      <th>...</th>\n",
       "      <th>42</th>\n",
       "      <th>43</th>\n",
       "      <th>44</th>\n",
       "      <th>45</th>\n",
       "      <th>46</th>\n",
       "      <th>47</th>\n",
       "      <th>48</th>\n",
       "      <th>49</th>\n",
       "      <th>50</th>\n",
       "      <th>51</th>\n",
       "    </tr>\n",
       "  </thead>\n",
       "  <tbody>\n",
       "    <tr>\n",
       "      <th>0</th>\n",
       "      <td>0.0</td>\n",
       "      <td>0.457722</td>\n",
       "      <td>0.26345</td>\n",
       "      <td>0.0</td>\n",
       "      <td>0.179548</td>\n",
       "      <td>0.0</td>\n",
       "      <td>0.0</td>\n",
       "      <td>0.0</td>\n",
       "      <td>0.0</td>\n",
       "      <td>0.0</td>\n",
       "      <td>...</td>\n",
       "      <td>0.0</td>\n",
       "      <td>0.0</td>\n",
       "      <td>0.0</td>\n",
       "      <td>0.199282</td>\n",
       "      <td>0.0</td>\n",
       "      <td>0.0</td>\n",
       "      <td>0.566525</td>\n",
       "      <td>0.0</td>\n",
       "      <td>0.0</td>\n",
       "      <td>0.0</td>\n",
       "    </tr>\n",
       "  </tbody>\n",
       "</table>\n",
       "<p>1 rows × 51 columns</p>\n",
       "</div>"
      ],
      "text/plain": [
       "    1         2        3    4         5    6    7    8    9    10  ...   42  \\\n",
       "0  0.0  0.457722  0.26345  0.0  0.179548  0.0  0.0  0.0  0.0  0.0  ...  0.0   \n",
       "\n",
       "    43   44        45   46   47        48   49   50   51  \n",
       "0  0.0  0.0  0.199282  0.0  0.0  0.566525  0.0  0.0  0.0  \n",
       "\n",
       "[1 rows x 51 columns]"
      ]
     },
     "execution_count": 58,
     "metadata": {},
     "output_type": "execute_result"
    }
   ],
   "source": [
    "similarity_df"
   ]
  },
  {
   "cell_type": "code",
   "execution_count": 61,
   "id": "25875cdf",
   "metadata": {},
   "outputs": [
    {
     "ename": "NameError",
     "evalue": "name 'index' is not defined",
     "output_type": "error",
     "traceback": [
      "\u001b[1;31m---------------------------------------------------------------------------\u001b[0m",
      "\u001b[1;31mNameError\u001b[0m                                 Traceback (most recent call last)",
      "\u001b[1;32m~\\AppData\\Local\\Temp/ipykernel_6936/968434644.py\u001b[0m in \u001b[0;36m<module>\u001b[1;34m\u001b[0m\n\u001b[1;32m----> 1\u001b[1;33m \u001b[0msimilarity_df\u001b[0m\u001b[1;33m.\u001b[0m\u001b[0msort_values\u001b[0m\u001b[1;33m(\u001b[0m\u001b[0mindex\u001b[0m\u001b[1;33m,\u001b[0m \u001b[0maxis\u001b[0m\u001b[1;33m=\u001b[0m\u001b[1;36m0\u001b[0m\u001b[1;33m)\u001b[0m\u001b[1;33m\u001b[0m\u001b[1;33m\u001b[0m\u001b[0m\n\u001b[0m",
      "\u001b[1;31mNameError\u001b[0m: name 'index' is not defined"
     ]
    }
   ],
   "source": [
    "similarity_df.sort_values(index, axis=0)"
   ]
  },
  {
   "cell_type": "code",
   "execution_count": null,
   "id": "cce0a691",
   "metadata": {},
   "outputs": [],
   "source": []
  },
  {
   "cell_type": "code",
   "execution_count": null,
   "id": "feb8af0e",
   "metadata": {},
   "outputs": [],
   "source": []
  }
 ],
 "metadata": {
  "kernelspec": {
   "display_name": "Python 3 (ipykernel)",
   "language": "python",
   "name": "python3"
  },
  "language_info": {
   "codemirror_mode": {
    "name": "ipython",
    "version": 3
   },
   "file_extension": ".py",
   "mimetype": "text/x-python",
   "name": "python",
   "nbconvert_exporter": "python",
   "pygments_lexer": "ipython3",
   "version": "3.9.7"
  }
 },
 "nbformat": 4,
 "nbformat_minor": 5
}
