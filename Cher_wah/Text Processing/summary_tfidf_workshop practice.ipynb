{
 "cells": [
  {
   "cell_type": "code",
   "execution_count": 78,
   "id": "8d8a5c03",
   "metadata": {},
   "outputs": [],
   "source": [
    "import string\n",
    "import nltk\n",
    "from nltk.corpus import stopwords\n",
    "from nltk.stem import WordNetLemmatizer\n",
    "from sklearn.feature_extraction.text import CountVectorizer, TfidfVectorizer\n",
    "from sklearn.metrics.pairwise import cosine_similarity"
   ]
  },
  {
   "cell_type": "markdown",
   "id": "006e8ee2",
   "metadata": {},
   "source": [
    "### Use file object to input the details"
   ]
  },
  {
   "cell_type": "code",
   "execution_count": 79,
   "id": "e38f6e1a",
   "metadata": {},
   "outputs": [],
   "source": [
    "file = open('space_invaders.txt', encoding='utf-8')\n",
    "doc = file.read()"
   ]
  },
  {
   "cell_type": "code",
   "execution_count": null,
   "id": "31b35d28",
   "metadata": {},
   "outputs": [],
   "source": []
  },
  {
   "cell_type": "code",
   "execution_count": 81,
   "id": "136b0462",
   "metadata": {},
   "outputs": [
    {
     "name": "stderr",
     "output_type": "stream",
     "text": [
      "[nltk_data] Downloading package stopwords to\n",
      "[nltk_data]     C:\\Users\\ASUS\\AppData\\Roaming\\nltk_data...\n",
      "[nltk_data]   Package stopwords is already up-to-date!\n",
      "[nltk_data] Downloading package wordnet to\n",
      "[nltk_data]     C:\\Users\\ASUS\\AppData\\Roaming\\nltk_data...\n",
      "[nltk_data]   Package wordnet is already up-to-date!\n"
     ]
    },
    {
     "data": {
      "text/plain": [
       "True"
      ]
     },
     "execution_count": 81,
     "metadata": {},
     "output_type": "execute_result"
    }
   ],
   "source": [
    "nltk.download('stopwords')\n",
    "nltk.download('wordnet')"
   ]
  },
  {
   "cell_type": "markdown",
   "id": "0fabf7ca",
   "metadata": {},
   "source": [
    "### Prepare Stemmer and stopwords and tokenize sentence"
   ]
  },
  {
   "cell_type": "code",
   "execution_count": 82,
   "id": "68012e22",
   "metadata": {},
   "outputs": [],
   "source": [
    "lemmatizer = WordNetLemmatizer()\n",
    "stop_words = stopwords.words('english')\n",
    "sentences = nltk.tokenize.sent_tokenize(doc)"
   ]
  },
  {
   "cell_type": "markdown",
   "id": "64846cbb",
   "metadata": {},
   "source": [
    "### Perform data cleansing"
   ]
  },
  {
   "cell_type": "code",
   "execution_count": 87,
   "id": "13837002",
   "metadata": {},
   "outputs": [
    {
     "data": {
      "text/plain": [
       "'The aim is to defeat five rows of eleven aliens—although some versions feature different numbers—that move horizontally back and forth across the screen as they advance toward the bottom of the screen.'"
      ]
     },
     "execution_count": 87,
     "metadata": {},
     "output_type": "execute_result"
    }
   ],
   "source": [
    "sentences[1]"
   ]
  },
  {
   "cell_type": "code",
   "execution_count": 88,
   "id": "0837d0b3",
   "metadata": {},
   "outputs": [],
   "source": [
    "def preprocess(docs):\n",
    "    docs_clean = []\n",
    "    punc = str.maketrans('', '', string.punctuation)\n",
    "    for doc in docs:\n",
    "        docs_no_punc = doc.translate(punc)\n",
    "        words = docs_no_punc.lower().split()\n",
    "        words = [lemmatizer.lemmatize(word, 'v')\n",
    "                for word in words if words not in stop_words]\n",
    "        docs_clean.append(' '.join(words))\n",
    "    return docs_clean\n",
    "\n",
    "docs_clean = preprocess(sentences)"
   ]
  },
  {
   "cell_type": "markdown",
   "id": "b9b18385",
   "metadata": {},
   "source": [
    "### After getting the cleansed words"
   ]
  },
  {
   "cell_type": "markdown",
   "id": "12618ed1",
   "metadata": {},
   "source": [
    "#### Input the words into Tfidf"
   ]
  },
  {
   "cell_type": "code",
   "execution_count": 89,
   "id": "cce6c4ce",
   "metadata": {},
   "outputs": [],
   "source": [
    "tfidf = TfidfVectorizer()\n",
    "\n",
    "feature_vectors = tfidf.fit_transform(docs_clean).toarray()"
   ]
  },
  {
   "cell_type": "code",
   "execution_count": 90,
   "id": "5f86b2b6",
   "metadata": {},
   "outputs": [
    {
     "data": {
      "text/plain": [
       "(52, 492)"
      ]
     },
     "execution_count": 90,
     "metadata": {},
     "output_type": "execute_result"
    }
   ],
   "source": [
    "feature_vectors.shape"
   ]
  },
  {
   "cell_type": "code",
   "execution_count": 91,
   "id": "8b083cdd",
   "metadata": {},
   "outputs": [],
   "source": [
    "sentences_tfidf = []\n",
    "for i in range(len(feature_vectors)):\n",
    "    sentences_tfidf.append(feature_vectors[i].sum())\n",
    "    "
   ]
  },
  {
   "cell_type": "markdown",
   "id": "fafa7cef",
   "metadata": {},
   "source": [
    "#### Order the values"
   ]
  },
  {
   "cell_type": "code",
   "execution_count": 92,
   "id": "bae2c5d4",
   "metadata": {},
   "outputs": [],
   "source": [
    "import numpy as np\n",
    "sentences_tfidf = np.array(sentences_tfidf)"
   ]
  },
  {
   "cell_type": "code",
   "execution_count": 94,
   "id": "c0b64790",
   "metadata": {},
   "outputs": [],
   "source": [
    "import pandas as pd"
   ]
  },
  {
   "cell_type": "code",
   "execution_count": 95,
   "id": "8b06d4e5",
   "metadata": {},
   "outputs": [],
   "source": [
    "sentences_df = pd.DataFrame(data=sentences_tfidf, columns=['sum'])"
   ]
  },
  {
   "cell_type": "code",
   "execution_count": 96,
   "id": "d050f754",
   "metadata": {},
   "outputs": [],
   "source": [
    "sentences_df['rownum'] = sentences_df.index"
   ]
  },
  {
   "cell_type": "code",
   "execution_count": 98,
   "id": "8a0a6c9e",
   "metadata": {},
   "outputs": [],
   "source": [
    "sorted_series = sentences_df.sort_values('sum', ascending=False)"
   ]
  },
  {
   "cell_type": "code",
   "execution_count": 99,
   "id": "64d4e0b5",
   "metadata": {},
   "outputs": [],
   "source": [
    "top10 = sorted_series[:10]"
   ]
  },
  {
   "cell_type": "code",
   "execution_count": 101,
   "id": "56823c99",
   "metadata": {},
   "outputs": [],
   "source": [
    "top10 = top10.sort_values('rownum')"
   ]
  },
  {
   "cell_type": "code",
   "execution_count": 102,
   "id": "76fa40f3",
   "metadata": {},
   "outputs": [
    {
     "data": {
      "text/html": [
       "<div>\n",
       "<style scoped>\n",
       "    .dataframe tbody tr th:only-of-type {\n",
       "        vertical-align: middle;\n",
       "    }\n",
       "\n",
       "    .dataframe tbody tr th {\n",
       "        vertical-align: top;\n",
       "    }\n",
       "\n",
       "    .dataframe thead th {\n",
       "        text-align: right;\n",
       "    }\n",
       "</style>\n",
       "<table border=\"1\" class=\"dataframe\">\n",
       "  <thead>\n",
       "    <tr style=\"text-align: right;\">\n",
       "      <th></th>\n",
       "      <th>sum</th>\n",
       "      <th>rownum</th>\n",
       "    </tr>\n",
       "  </thead>\n",
       "  <tbody>\n",
       "    <tr>\n",
       "      <th>1</th>\n",
       "      <td>5.214000</td>\n",
       "      <td>1</td>\n",
       "    </tr>\n",
       "    <tr>\n",
       "      <th>2</th>\n",
       "      <td>5.091562</td>\n",
       "      <td>2</td>\n",
       "    </tr>\n",
       "    <tr>\n",
       "      <th>10</th>\n",
       "      <td>6.052339</td>\n",
       "      <td>10</td>\n",
       "    </tr>\n",
       "    <tr>\n",
       "      <th>22</th>\n",
       "      <td>5.395277</td>\n",
       "      <td>22</td>\n",
       "    </tr>\n",
       "    <tr>\n",
       "      <th>24</th>\n",
       "      <td>5.272312</td>\n",
       "      <td>24</td>\n",
       "    </tr>\n",
       "    <tr>\n",
       "      <th>28</th>\n",
       "      <td>5.756173</td>\n",
       "      <td>28</td>\n",
       "    </tr>\n",
       "    <tr>\n",
       "      <th>36</th>\n",
       "      <td>5.116616</td>\n",
       "      <td>36</td>\n",
       "    </tr>\n",
       "    <tr>\n",
       "      <th>37</th>\n",
       "      <td>5.415283</td>\n",
       "      <td>37</td>\n",
       "    </tr>\n",
       "    <tr>\n",
       "      <th>39</th>\n",
       "      <td>5.197512</td>\n",
       "      <td>39</td>\n",
       "    </tr>\n",
       "    <tr>\n",
       "      <th>48</th>\n",
       "      <td>7.057334</td>\n",
       "      <td>48</td>\n",
       "    </tr>\n",
       "  </tbody>\n",
       "</table>\n",
       "</div>"
      ],
      "text/plain": [
       "         sum  rownum\n",
       "1   5.214000       1\n",
       "2   5.091562       2\n",
       "10  6.052339      10\n",
       "22  5.395277      22\n",
       "24  5.272312      24\n",
       "28  5.756173      28\n",
       "36  5.116616      36\n",
       "37  5.415283      37\n",
       "39  5.197512      39\n",
       "48  7.057334      48"
      ]
     },
     "execution_count": 102,
     "metadata": {},
     "output_type": "execute_result"
    }
   ],
   "source": [
    "top10 "
   ]
  },
  {
   "cell_type": "code",
   "execution_count": 104,
   "id": "2175e4fd",
   "metadata": {},
   "outputs": [
    {
     "name": "stdout",
     "output_type": "stream",
     "text": [
      "[Line 1]: \n",
      "The aim is to defeat five rows of eleven aliens—although some versions feature different numbers—that move horizontally back and forth across the screen as they advance toward the bottom of the screen.\n",
      "\n",
      "[Line 2]: \n",
      "The player's laser cannon is partially protected by several stationary defense bunkers—the number also varies by version—that are gradually destroyed from the top and bottom by blasts from either the aliens or the player.\n",
      "\n",
      "[Line 10]: \n",
      "The game's inspiration is reported to have come from varying sources, including an adaptation of the mechanical game Space Monsters released by Taito in 1972, and a dream about Japanese school children who are waiting for Santa Claus when they are attacked by invading aliens.\n",
      "\n",
      "[Line 22]: \n",
      "Because microcomputers in Japan were not powerful enough at the time to perform the complex tasks involved in designing and programming Space Invaders, Nishikado had to design his own custom hardware and development tools for the game.\n",
      "\n",
      "[Line 24]: \n",
      "The game uses an Intel 8080 central processing unit (CPU), displays raster graphics on a CRT monitor using a bitmapped framebuffer, and uses monaural sound hosted by a combination of analog circuitry and a Texas Instruments SN76477 sound chip.\n",
      "\n",
      "[Line 28]: \n",
      "Despite the specially developed hardware, Nishikado was unable to program the game as he wanted—the Control Program board was not powerful enough to display the graphics in color or move the enemies faster—and he ended up considering the development of the game's hardware the most difficult part of the whole process.\n",
      "\n",
      "[Line 36]: \n",
      "The cabinet artwork featured large humanoid monsters not present in the game; Nishikado attributes this to the artist basing the designs on the original title of \"Space Monsters\", rather than referring to the actual in-game graphics.\n",
      "\n",
      "[Line 37]: \n",
      "In the upright cabinets, the game graphics are generated on a hidden CRT monitor and reflected toward the player using a semi-transparent mirror, behind which is mounted a plastic cutout of a moon bolted against a painted starry background.\n",
      "\n",
      "[Line 39]: \n",
      "Both Taito's and Midway's first Space Invaders versions had black-and-white graphics with a transparent colored overlay using strips of orange and green cellophane over certain portions of the screen to add color to the image.\n",
      "\n",
      "[Line 48]: \n",
      "It was also the first game where players were given multiple lives, had to repel hordes of enemies, could take cover from enemy fire, and use destructible barriers,in addition to being the first game to use a continuous background soundtrack, with four simple diatonic descending bass notes repeating in a loop, which was dynamic and changed pace during stages, like a heartbeat sound that increases pace as enemies approached.\n",
      "\n"
     ]
    }
   ],
   "source": [
    "for i in range(len(top10)):\n",
    "    index_of_sorted = top10.index[i]\n",
    "    print(f\"[Line {top10.index[i]}]: \\n{sentences[index_of_sorted]}\\n\")"
   ]
  },
  {
   "cell_type": "code",
   "execution_count": null,
   "id": "57b3ea8d",
   "metadata": {},
   "outputs": [],
   "source": []
  }
 ],
 "metadata": {
  "kernelspec": {
   "display_name": "Python 3 (ipykernel)",
   "language": "python",
   "name": "python3"
  },
  "language_info": {
   "codemirror_mode": {
    "name": "ipython",
    "version": 3
   },
   "file_extension": ".py",
   "mimetype": "text/x-python",
   "name": "python",
   "nbconvert_exporter": "python",
   "pygments_lexer": "ipython3",
   "version": "3.9.7"
  }
 },
 "nbformat": 4,
 "nbformat_minor": 5
}
